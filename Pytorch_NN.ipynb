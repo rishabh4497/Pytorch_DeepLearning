{
  "nbformat": 4,
  "nbformat_minor": 0,
  "metadata": {
    "colab": {
      "provenance": [],
      "authorship_tag": "ABX9TyPaojjbmKLbk7rG1cfUIU6X",
      "include_colab_link": true
    },
    "kernelspec": {
      "name": "python3",
      "display_name": "Python 3"
    },
    "language_info": {
      "name": "python"
    },
    "accelerator": "GPU",
    "gpuClass": "standard"
  },
  "cells": [
    {
      "cell_type": "markdown",
      "metadata": {
        "id": "view-in-github",
        "colab_type": "text"
      },
      "source": [
        "<a href=\"https://colab.research.google.com/github/rishabh4497/Pytorch_DeepLearning/blob/main/Pytorch_NN.ipynb\" target=\"_parent\"><img src=\"https://colab.research.google.com/assets/colab-badge.svg\" alt=\"Open In Colab\"/></a>"
      ]
    },
    {
      "cell_type": "code",
      "execution_count": null,
      "metadata": {
        "colab": {
          "base_uri": "https://localhost:8080/"
        },
        "id": "lNKVl-DAT85A",
        "outputId": "43da0b54-838e-4d10-b578-e5052b02603b"
      },
      "outputs": [
        {
          "output_type": "stream",
          "name": "stdout",
          "text": [
            "2.0.0+cu118\n"
          ]
        }
      ],
      "source": [
        "import torch\n",
        "import pandas as pd\n",
        "import numpy as np\n",
        "import matplotlib.pyplot as plt\n",
        "\n"
      ]
    },
    {
      "cell_type": "code",
      "source": [
        "# Tensors- Scalar\n",
        "\n",
        "scalar = torch.tensor(7)\n"
      ],
      "metadata": {
        "id": "8GLRzbSIfCdm"
      },
      "execution_count": 2,
      "outputs": []
    },
    {
      "cell_type": "code",
      "source": [
        "# Tensor- Vector\n",
        "\n",
        "Vector = torch.tensor([1,1])"
      ],
      "metadata": {
        "id": "Fk0YOUq9hfnF"
      },
      "execution_count": 3,
      "outputs": []
    },
    {
      "cell_type": "code",
      "source": [
        "# Tensor- Matrix\n",
        "\n",
        "Matrix = torch.tensor([[1,1], [2,2]])"
      ],
      "metadata": {
        "id": "PsOapRQ7hq11"
      },
      "execution_count": 6,
      "outputs": []
    },
    {
      "cell_type": "code",
      "source": [
        "Matrix.ndim # ndim is for number of the dimensions in tensor"
      ],
      "metadata": {
        "colab": {
          "base_uri": "https://localhost:8080/"
        },
        "id": "sWyrg4v3iCz2",
        "outputId": "9359989f-10bd-4e42-e8b4-3d3774687b1c"
      },
      "execution_count": 9,
      "outputs": [
        {
          "output_type": "execute_result",
          "data": {
            "text/plain": [
              "2"
            ]
          },
          "metadata": {},
          "execution_count": 9
        }
      ]
    },
    {
      "cell_type": "code",
      "source": [
        "# Tensors- Tensor\n",
        "\n",
        "Tensors = torch.tensor([[[1,1,1],[2,2,2],[3,3,3]]])\n",
        "Tensors"
      ],
      "metadata": {
        "colab": {
          "base_uri": "https://localhost:8080/"
        },
        "id": "1tI9-4_eiV3c",
        "outputId": "71095fd5-43f6-4946-aed6-61f593e437fe"
      },
      "execution_count": 10,
      "outputs": [
        {
          "output_type": "execute_result",
          "data": {
            "text/plain": [
              "tensor([[[1, 1, 1],\n",
              "         [2, 2, 2],\n",
              "         [3, 3, 3]]])"
            ]
          },
          "metadata": {},
          "execution_count": 10
        }
      ]
    },
    {
      "cell_type": "code",
      "source": [
        "Tensors.ndim"
      ],
      "metadata": {
        "colab": {
          "base_uri": "https://localhost:8080/"
        },
        "id": "x3tGnCMGjF-I",
        "outputId": "e704acb5-7934-4ee6-89c3-eddef29cf8a5"
      },
      "execution_count": 11,
      "outputs": [
        {
          "output_type": "execute_result",
          "data": {
            "text/plain": [
              "3"
            ]
          },
          "metadata": {},
          "execution_count": 11
        }
      ]
    },
    {
      "cell_type": "code",
      "source": [
        "Tensors.shape"
      ],
      "metadata": {
        "colab": {
          "base_uri": "https://localhost:8080/"
        },
        "id": "UHoK48aAjJpU",
        "outputId": "9ecfb557-4d2b-4e92-9430-cfbe3e3c1286"
      },
      "execution_count": 12,
      "outputs": [
        {
          "output_type": "execute_result",
          "data": {
            "text/plain": [
              "torch.Size([1, 3, 3])"
            ]
          },
          "metadata": {},
          "execution_count": 12
        }
      ]
    },
    {
      "cell_type": "code",
      "source": [
        "# Random tensors\n",
        "\n",
        "rand_t = torch.rand(3,4)\n",
        "rand_t"
      ],
      "metadata": {
        "colab": {
          "base_uri": "https://localhost:8080/"
        },
        "id": "F2U6HFkujMPn",
        "outputId": "18a7e1d7-2cc4-4502-a28a-cc4c4e8b8cca"
      },
      "execution_count": 13,
      "outputs": [
        {
          "output_type": "execute_result",
          "data": {
            "text/plain": [
              "tensor([[0.9968, 0.3299, 0.4963, 0.4628],\n",
              "        [0.5271, 0.3925, 0.1632, 0.2221],\n",
              "        [0.3225, 0.1080, 0.8955, 0.7786]])"
            ]
          },
          "metadata": {},
          "execution_count": 13
        }
      ]
    },
    {
      "cell_type": "code",
      "source": [],
      "metadata": {
        "id": "2NObvVi3lWNB"
      },
      "execution_count": null,
      "outputs": []
    },
    {
      "cell_type": "code",
      "source": [],
      "metadata": {
        "id": "A1-vIUJ3iJZ_"
      },
      "execution_count": null,
      "outputs": []
    },
    {
      "cell_type": "code",
      "source": [],
      "metadata": {
        "id": "hRLOX854iGv5"
      },
      "execution_count": null,
      "outputs": []
    },
    {
      "cell_type": "code",
      "source": [],
      "metadata": {
        "id": "Y4Da4dx-h7iq"
      },
      "execution_count": null,
      "outputs": []
    }
  ]
}