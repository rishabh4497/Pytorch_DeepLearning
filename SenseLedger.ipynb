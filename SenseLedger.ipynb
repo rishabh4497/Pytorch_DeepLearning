{
  "nbformat": 4,
  "nbformat_minor": 0,
  "metadata": {
    "colab": {
      "provenance": [],
      "authorship_tag": "ABX9TyPW+w5G9TTuMYkEZcmwp9F7",
      "include_colab_link": true
    },
    "kernelspec": {
      "name": "python3",
      "display_name": "Python 3"
    },
    "language_info": {
      "name": "python"
    }
  },
  "cells": [
    {
      "cell_type": "markdown",
      "metadata": {
        "id": "view-in-github",
        "colab_type": "text"
      },
      "source": [
        "<a href=\"https://colab.research.google.com/github/rishabh4497/Pytorch_DeepLearning/blob/main/SenseLedger.ipynb\" target=\"_parent\"><img src=\"https://colab.research.google.com/assets/colab-badge.svg\" alt=\"Open In Colab\"/></a>"
      ]
    },
    {
      "cell_type": "code",
      "execution_count": 1,
      "metadata": {
        "colab": {
          "base_uri": "https://localhost:8080/"
        },
        "id": "EvfPZFfzA3_w",
        "outputId": "24076439-25eb-43fa-ff77-34d335c30c5c"
      },
      "outputs": [
        {
          "output_type": "stream",
          "name": "stdout",
          "text": [
            "Epoch [100/1000], Loss: 0.9111\n",
            "Epoch [200/1000], Loss: 0.8452\n",
            "Epoch [300/1000], Loss: 0.8023\n",
            "Epoch [400/1000], Loss: 0.7652\n",
            "Epoch [500/1000], Loss: 0.7171\n",
            "Epoch [600/1000], Loss: 0.6825\n",
            "Epoch [700/1000], Loss: 0.6545\n",
            "Epoch [800/1000], Loss: 0.6379\n",
            "Epoch [900/1000], Loss: 0.6245\n",
            "Epoch [1000/1000], Loss: 0.6135\n",
            "Predicted expense: 0.38767316937446594\n"
          ]
        }
      ],
      "source": [
        "import torch\n",
        "import torch.nn as nn\n",
        "import torch.optim as optim\n",
        "\n",
        "# Define the neural network architecture\n",
        "class ExpenseNet(nn.Module):\n",
        "    def __init__(self, input_size, hidden_size, output_size):\n",
        "        super(ExpenseNet, self).__init__()\n",
        "        self.fc1 = nn.Linear(input_size, hidden_size)\n",
        "        self.relu = nn.ReLU()\n",
        "        self.fc2 = nn.Linear(hidden_size, output_size)\n",
        "    \n",
        "    def forward(self, x):\n",
        "        out = self.fc1(x)\n",
        "        out = self.relu(out)\n",
        "        out = self.fc2(out)\n",
        "        return out\n",
        "\n",
        "# Define the training loop\n",
        "def train_model(model, inputs, labels, num_epochs, learning_rate):\n",
        "    criterion = nn.MSELoss()\n",
        "    optimizer = optim.Adam(model.parameters(), lr=learning_rate)\n",
        "    \n",
        "    for epoch in range(num_epochs):\n",
        "        optimizer.zero_grad()\n",
        "        outputs = model(inputs)\n",
        "        loss = criterion(outputs, labels)\n",
        "        loss.backward()\n",
        "        optimizer.step()\n",
        "        \n",
        "        if (epoch+1) % 100 == 0:\n",
        "            print(f'Epoch [{epoch+1}/{num_epochs}], Loss: {loss.item():.4f}')\n",
        "\n",
        "# Example usage\n",
        "input_size = 4  # Number of input features\n",
        "hidden_size = 8  # Number of hidden units in the neural network\n",
        "output_size = 1  # Number of output units (predicted expense)\n",
        "\n",
        "# Create an instance of the ExpenseNet\n",
        "model = ExpenseNet(input_size, hidden_size, output_size)\n",
        "\n",
        "# Generate some random input data and labels for training\n",
        "inputs = torch.randn(100, input_size)\n",
        "labels = torch.randn(100, output_size)\n",
        "\n",
        "# Train the model\n",
        "num_epochs = 1000\n",
        "learning_rate = 0.001\n",
        "train_model(model, inputs, labels, num_epochs, learning_rate)\n",
        "\n",
        "# Test the model\n",
        "test_input = torch.randn(1, input_size)\n",
        "predicted_expense = model(test_input)\n",
        "print('Predicted expense:', predicted_expense.item())\n"
      ]
    }
  ]
}